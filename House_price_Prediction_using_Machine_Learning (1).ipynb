{
  "cells": [
    {
      "cell_type": "markdown",
      "metadata": {
        "id": "hZKFtwifTTn-"
      },
      "source": [
        "# Package Installation\n"
      ]
    },
    {
      "cell_type": "markdown",
      "metadata": {
        "id": "i3CTG964THui"
      },
      "source": [
        "Please run following command in case any package is missing\n"
      ]
    },
    {
      "cell_type": "code",
      "execution_count": null,
      "metadata": {
        "colab": {
          "base_uri": "https://localhost:8080/"
        },
        "id": "VWEQjpVmShPX",
        "outputId": "c0fc4430-ee2d-4afc-b6ce-534c5e559d75"
      },
      "outputs": [
        {
          "name": "stdout",
          "output_type": "stream",
          "text": [
            "Requirement already satisfied: scikit-learn in /usr/local/lib/python3.10/dist-packages (1.4.1.post1)\n",
            "Requirement already satisfied: numpy<2.0,>=1.19.5 in /usr/local/lib/python3.10/dist-packages (from scikit-learn) (1.25.2)\n",
            "Requirement already satisfied: scipy>=1.6.0 in /usr/local/lib/python3.10/dist-packages (from scikit-learn) (1.11.4)\n",
            "Requirement already satisfied: joblib>=1.2.0 in /usr/local/lib/python3.10/dist-packages (from scikit-learn) (1.3.2)\n",
            "Requirement already satisfied: threadpoolctl>=2.0.0 in /usr/local/lib/python3.10/dist-packages (from scikit-learn) (3.3.0)\n"
          ]
        }
      ],
      "source": [
        "pip install scikit-learn #Sklearn Libraries"
      ]
    },
    {
      "cell_type": "code",
      "execution_count": null,
      "metadata": {
        "colab": {
          "base_uri": "https://localhost:8080/"
        },
        "id": "PjT09yJYTnnJ",
        "outputId": "e04c9f01-94f7-4b34-f7a3-cc47268ee524"
      },
      "outputs": [
        {
          "name": "stdout",
          "output_type": "stream",
          "text": [
            "Requirement already satisfied: numpy in /usr/local/lib/python3.10/dist-packages (1.25.2)\n"
          ]
        }
      ],
      "source": [
        "pip install numpy #Numpy Libraries\n"
      ]
    },
    {
      "cell_type": "code",
      "execution_count": null,
      "metadata": {
        "colab": {
          "base_uri": "https://localhost:8080/"
        },
        "id": "UN2feqKZToNV",
        "outputId": "c01be06b-3743-4cf3-df81-13bac2c0d05a"
      },
      "outputs": [
        {
          "name": "stdout",
          "output_type": "stream",
          "text": [
            "Requirement already satisfied: pandas in /usr/local/lib/python3.10/dist-packages (1.5.3)\n",
            "Requirement already satisfied: python-dateutil>=2.8.1 in /usr/local/lib/python3.10/dist-packages (from pandas) (2.8.2)\n",
            "Requirement already satisfied: pytz>=2020.1 in /usr/local/lib/python3.10/dist-packages (from pandas) (2023.4)\n",
            "Requirement already satisfied: numpy>=1.21.0 in /usr/local/lib/python3.10/dist-packages (from pandas) (1.25.2)\n",
            "Requirement already satisfied: six>=1.5 in /usr/local/lib/python3.10/dist-packages (from python-dateutil>=2.8.1->pandas) (1.16.0)\n"
          ]
        }
      ],
      "source": [
        "pip install pandas #Pandas Libraries"
      ]
    },
    {
      "cell_type": "code",
      "execution_count": null,
      "metadata": {
        "colab": {
          "base_uri": "https://localhost:8080/"
        },
        "id": "W8jhjLmqS5Y_",
        "outputId": "c9872453-d154-4387-ab19-494b34e7f327"
      },
      "outputs": [
        {
          "name": "stdout",
          "output_type": "stream",
          "text": [
            "Requirement already satisfied: Matplotlib in /usr/local/lib/python3.10/dist-packages (3.7.1)\n",
            "Requirement already satisfied: contourpy>=1.0.1 in /usr/local/lib/python3.10/dist-packages (from Matplotlib) (1.2.0)\n",
            "Requirement already satisfied: cycler>=0.10 in /usr/local/lib/python3.10/dist-packages (from Matplotlib) (0.12.1)\n",
            "Requirement already satisfied: fonttools>=4.22.0 in /usr/local/lib/python3.10/dist-packages (from Matplotlib) (4.49.0)\n",
            "Requirement already satisfied: kiwisolver>=1.0.1 in /usr/local/lib/python3.10/dist-packages (from Matplotlib) (1.4.5)\n",
            "Requirement already satisfied: numpy>=1.20 in /usr/local/lib/python3.10/dist-packages (from Matplotlib) (1.25.2)\n",
            "Requirement already satisfied: packaging>=20.0 in /usr/local/lib/python3.10/dist-packages (from Matplotlib) (23.2)\n",
            "Requirement already satisfied: pillow>=6.2.0 in /usr/local/lib/python3.10/dist-packages (from Matplotlib) (9.4.0)\n",
            "Requirement already satisfied: pyparsing>=2.3.1 in /usr/local/lib/python3.10/dist-packages (from Matplotlib) (3.1.1)\n",
            "Requirement already satisfied: python-dateutil>=2.7 in /usr/local/lib/python3.10/dist-packages (from Matplotlib) (2.8.2)\n",
            "Requirement already satisfied: six>=1.5 in /usr/local/lib/python3.10/dist-packages (from python-dateutil>=2.7->Matplotlib) (1.16.0)\n"
          ]
        }
      ],
      "source": [
        "pip install Matplotlib #matplotlib libraries"
      ]
    },
    {
      "cell_type": "markdown",
      "metadata": {
        "id": "9a4GLsLWTcbt"
      },
      "source": [
        "# House Price Prediction Using Machine Learning"
      ]
    },
    {
      "cell_type": "code",
      "execution_count": null,
      "metadata": {
        "id": "H7ASWRUPQRML"
      },
      "outputs": [],
      "source": [
        "# Import necessary libraries\n",
        "#Numpy and pandas for data manupulation\n",
        "import numpy as np\n",
        "import pandas as pd\n",
        "#sklearn library for machine learning function\n",
        "from sklearn.model_selection import train_test_split\n",
        "from sklearn.linear_model import LinearRegression\n",
        "from sklearn.metrics import mean_squared_error, r2_score\n",
        "#graph Visualisation using matplot\n",
        "import matplotlib.pyplot as plt\n"
      ]
    },
    {
      "cell_type": "code",
      "execution_count": null,
      "metadata": {
        "id": "JGTMoPFonn5p"
      },
      "outputs": [],
      "source": [
        "\n",
        "# Generate your dataset\n",
        "np.random.seed(0)\n",
        "num_samples = 100\n",
        "\n",
        "area = np.random.randint(500, 3000, num_samples)\n",
        "\n",
        "bedrooms = np.random.randint(1, 6, num_samples)\n",
        "\n",
        "prices = np.round(100000 + 300 * area + 20000 * bedrooms\n",
        "                  + np.random.normal(0, 10000, num_samples),2)\n",
        "\n",
        "#Create a DataFrame and save as Csv\n",
        "data = pd.DataFrame({'Area': area, 'Bedrooms': bedrooms,\n",
        "                     'Price': prices})\n",
        "data.to_csv('house_prices_dataset.csv', index=True)\n"
      ]
    },
    {
      "cell_type": "markdown",
      "metadata": {
        "id": "c9QmRoK8Mclf"
      },
      "source": []
    },
    {
      "cell_type": "code",
      "execution_count": null,
      "metadata": {
        "colab": {
          "background_save": true,
          "base_uri": "https://localhost:8080/",
          "height": 673
        },
        "id": "cuW8JTJ0QWN7",
        "outputId": "67a738e7-9002-4516-f353-f01aa8c68c51"
      },
      "outputs": [
        {
          "name": "stdout",
          "output_type": "stream",
          "text": [
            "   Unnamed: 0  Area  Bedrooms      Price\n",
            "0           0  2153         4  825665.20\n",
            "1           1  1335         4  581394.22\n",
            "2           2  1263         3  532956.73\n",
            "3           3  2231         4  848243.03\n",
            "4           4  1533         5  667327.96\n",
            "Line of Regression: Price = 298.30 * Area + 20330.96 * Bedrooms + 102417.70\n",
            "\n",
            "Model Evaluation:\n",
            "Mean Squared Error: 99438082.93806651\n",
            "R-squared: 0.9969217811718599\n"
          ]
        },
        {
          "data": {
            "image/png": "[encoded data removed]",
            "text/plain": [
              "<Figure size 640x480 with 1 Axes>"
            ]
          },
          "metadata": {},
          "output_type": "display_data"
        }
      ],
      "source": [
        "#importing CSV file\n",
        "data= pd.read_csv(\"house_prices_dataset.csv\",header=0)\n",
        "# Print the dataset\n",
        "#print(\"Generated Dataset and Description:\")\n",
        "print(data.head(5))\n",
        "#print(data.describe())\n",
        "# Split the dataset into training and testing sets\n",
        "X = data[['Area', 'Bedrooms']]\n",
        "y = data['Price']\n",
        "X_train, X_test, y_train, y_test = train_test_split(X, y, test_size=0.2, random_state=42)\n",
        "\n",
        "# Creating a linear regression model\n",
        "model = LinearRegression()\n",
        "\n",
        "# Train the model\n",
        "model.fit(X_train, y_train)\n",
        "\n",
        "# Extract coefficients\n",
        "slope = model.coef_[0]\n",
        "intercept = model.intercept_\n",
        "\n",
        "# Print the line of regression equation\n",
        "print(f'Line of Regression: Price = {slope:.2f} * Area + {model.coef_[1]:.2f} * Bedrooms + {intercept:.2f}')\n",
        "\n",
        "# Make predictions on the test set\n",
        "y_pred = model.predict(X_test)\n",
        "\n",
        "# Evaluate the model\n",
        "mse = mean_squared_error(y_test, y_pred)\n",
        "r2 = r2_score(y_test, y_pred)\n",
        "\n",
        "print(\"\\nModel Evaluation:\")\n",
        "print(f'Mean Squared Error: {mse}')\n",
        "print(f'R-squared: {r2}')\n",
        "\n",
        "# Visualize the predictions\n",
        "plt.scatter(X_test['Area'], y_test, color='black',\n",
        "            label='Actual Prices')\n",
        "plt.scatter(X_test['Area'], y_pred, color='blue',\n",
        "            label='Predicted Prices')\n",
        "plt.xlabel('Area')\n",
        "plt.ylabel('Price')\n",
        "plt.legend()\n",
        "plt.show()\n",
        "\n",
        "# Get user input for prediction\n",
        "user_area = float(input(\"Enter the area (in sq. ft): \"))\n",
        "user_bedrooms = int(input(\"Enter the number of bedrooms: \"))\n",
        "\n",
        "# Make prediction using user input\n",
        "user_input = pd.DataFrame({'Area': [user_area], 'Bedrooms': [user_bedrooms]})\n",
        "predicted_price = model.predict(user_input)\n",
        "\n",
        "print(f'Predicted Price: ${predicted_price[0]:,.2f}')\n"
      ]
    },
    {
      "cell_type": "code",
      "execution_count": null,
      "metadata": {
        "id": "_dwuuteJueeY"
      },
      "outputs": [],
      "source": []
    }
  ],
  "metadata": {
    "colab": {
      "collapsed_sections": [
        "hZKFtwifTTn-"
      ],
      "provenance": []
    },
    "kernelspec": {
      "display_name": "Python 3",
      "name": "python3"
    },
    "language_info": {
      "name": "python"
    }
  },
  "nbformat": 4,
  "nbformat_minor": 0
}